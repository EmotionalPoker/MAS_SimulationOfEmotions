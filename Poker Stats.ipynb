{
 "cells": [
  {
   "cell_type": "markdown",
   "metadata": {},
   "source": [
    "### File to run poker experiments"
   ]
  },
  {
   "cell_type": "markdown",
   "metadata": {},
   "source": [
    "###### Import the Poker Environment"
   ]
  },
  {
   "cell_type": "code",
   "execution_count": 16,
   "metadata": {},
   "outputs": [],
   "source": [
    "from PokerEnv import *\n",
    "import matplotlib.pyplot as plt"
   ]
  },
  {
   "cell_type": "code",
   "execution_count": 8,
   "metadata": {},
   "outputs": [],
   "source": [
    "games = []\n",
    "error=[]"
   ]
  },
  {
   "cell_type": "markdown",
   "metadata": {},
   "source": [
    "###### Run 10000 games of poker with random emotions and random powers"
   ]
  },
  {
   "cell_type": "code",
   "execution_count": 9,
   "metadata": {},
   "outputs": [],
   "source": [
    "\n",
    "for j in range(10000):\n",
    "    players_list = []\n",
    "    for i in range(8):\n",
    "        p = Player()\n",
    "        emotion = random.randint(0,5)\n",
    "        power = random.random()\n",
    "        a = Agent(p,1000,emotion,power)\n",
    "        players_list.append(a)\n",
    "    env = PokerEnvironment(players_list)\n",
    "    env.reset()\n",
    "    env.pre_flop()\n",
    "    env.flop()\n",
    "    env.turn()\n",
    "    env.river()\n",
    "    env.showdown()\n",
    "    games.append(env.game_stats)\n",
    "    try:\n",
    "        c  = 1/len(env.game_stats['win_emotion'])\n",
    "    except:\n",
    "        print(j)\n",
    "        error=players_list\n",
    "        break"
   ]
  },
  {
   "cell_type": "markdown",
   "metadata": {},
   "source": [
    "###### Calculate how many games each emotion won out of 10000 games"
   ]
  },
  {
   "cell_type": "code",
   "execution_count": 10,
   "metadata": {},
   "outputs": [],
   "source": [
    "emotion_frequency = {'fear':0,'happy':0,'no-emotion':0,'anger':0,'contempt':0,'normal':0}"
   ]
  },
  {
   "cell_type": "code",
   "execution_count": 11,
   "metadata": {},
   "outputs": [],
   "source": [
    "for i in range(len(games)):\n",
    "    game_s = games[i]\n",
    "    try:\n",
    "        emotion_frequency[game_s['win_emotion']]+=1\n",
    "    except:\n",
    "        print(i)"
   ]
  },
  {
   "cell_type": "markdown",
   "metadata": {},
   "source": [
    "###### We call it emotion frequency"
   ]
  },
  {
   "cell_type": "code",
   "execution_count": 12,
   "metadata": {},
   "outputs": [
    {
     "data": {
      "text/plain": [
       "{'fear': 1439,\n",
       " 'happy': 2038,\n",
       " 'no-emotion': 1361,\n",
       " 'anger': 2289,\n",
       " 'contempt': 1341,\n",
       " 'normal': 1532}"
      ]
     },
     "execution_count": 12,
     "metadata": {},
     "output_type": "execute_result"
    }
   ],
   "source": [
    "emotion_frequency"
   ]
  },
  {
   "cell_type": "markdown",
   "metadata": {},
   "source": [
    "###### Plot"
   ]
  },
  {
   "cell_type": "code",
   "execution_count": 13,
   "metadata": {},
   "outputs": [],
   "source": [
    "x=['fear','happy','no-emotion','angry','contempt','normal']"
   ]
  },
  {
   "cell_type": "code",
   "execution_count": 14,
   "metadata": {},
   "outputs": [],
   "source": [
    "y = [x[1] for x in emotion_frequency.items()]"
   ]
  },
  {
   "cell_type": "code",
   "execution_count": 17,
   "metadata": {},
   "outputs": [
    {
     "data": {
      "text/plain": [
       "<BarContainer object of 6 artists>"
      ]
     },
     "execution_count": 17,
     "metadata": {},
     "output_type": "execute_result"
    },
    {
     "data": {
      "image/png": "[encoded data removed]",
      "text/plain": [
       "<Figure size 432x288 with 1 Axes>"
      ]
     },
     "metadata": {
      "needs_background": "light"
     },
     "output_type": "display_data"
    }
   ],
   "source": [
    "plt.title('Wins of Emotions')\n",
    "plt.xlabel('Emotion')\n",
    "plt.ylabel('Number of Wins')\n",
    "plt.bar(x,y)"
   ]
  },
  {
   "cell_type": "markdown",
   "metadata": {},
   "source": [
    "###### Calculate average power of each winning emotion"
   ]
  },
  {
   "cell_type": "code",
   "execution_count": 18,
   "metadata": {},
   "outputs": [],
   "source": [
    "power_frequency = {'fear':0,'happy':0,'no-emotion':0,'anger':0,'contempt':0,'normal':0}"
   ]
  },
  {
   "cell_type": "code",
   "execution_count": 19,
   "metadata": {},
   "outputs": [],
   "source": [
    "for i in range(len(games)):\n",
    "    game_s = games[i]\n",
    "    try:  \n",
    "        power_frequency[game_s['win_emotion']]+=game_s['win_e_power']\n",
    "    except Exception as e:\n",
    "        print(e)\n",
    "        break\n",
    "        "
   ]
  },
  {
   "cell_type": "code",
   "execution_count": 21,
   "metadata": {},
   "outputs": [],
   "source": [
    "for i in power_frequency:\n",
    "    power_frequency[i] /= emotion_frequency[i]"
   ]
  },
  {
   "cell_type": "code",
   "execution_count": 22,
   "metadata": {},
   "outputs": [
    {
     "data": {
      "text/plain": [
       "{'fear': 0.48609954272432515,\n",
       " 'happy': 0.5472139978138693,\n",
       " 'no-emotion': 0.4994156932296589,\n",
       " 'anger': 0.5740032101035686,\n",
       " 'contempt': 0.48382973640800697,\n",
       " 'normal': 0.505259189087482}"
      ]
     },
     "execution_count": 22,
     "metadata": {},
     "output_type": "execute_result"
    }
   ],
   "source": [
    "power_frequency"
   ]
  },
  {
   "cell_type": "markdown",
   "metadata": {},
   "source": [
    "###### Plot"
   ]
  },
  {
   "cell_type": "code",
   "execution_count": 23,
   "metadata": {},
   "outputs": [],
   "source": [
    "x=['fear','happy','no-emotion','angry','contempt','normal']\n",
    "y = [x[1] for x in power_frequency.items()]"
   ]
  },
  {
   "cell_type": "code",
   "execution_count": 24,
   "metadata": {},
   "outputs": [
    {
     "data": {
      "text/plain": [
       "<matplotlib.collections.PathCollection at 0x2a25ac14ef0>"
      ]
     },
     "execution_count": 24,
     "metadata": {},
     "output_type": "execute_result"
    },
    {
     "data": {
      "image/png": "[encoded data removed]",
      "text/plain": [
       "<Figure size 432x288 with 1 Axes>"
      ]
     },
     "metadata": {
      "needs_background": "light"
     },
     "output_type": "display_data"
    }
   ],
   "source": [
    "plt.title('Power of emotions when Win')\n",
    "plt.xlabel('Emotion')\n",
    "plt.ylabel('Average Power when the emotion wins')\n",
    "plt.scatter(x,y)"
   ]
  },
  {
   "cell_type": "markdown",
   "metadata": {},
   "source": [
    "###### Frequency of game endings for each turn"
   ]
  },
  {
   "cell_type": "code",
   "execution_count": 25,
   "metadata": {},
   "outputs": [],
   "source": [
    "turn_frequency = {'pre_flop':0,'flop':0,'turn':0,'river':0,'showdown':0}"
   ]
  },
  {
   "cell_type": "code",
   "execution_count": 26,
   "metadata": {},
   "outputs": [],
   "source": [
    "for i in range(len(games)):\n",
    "    game_s = games[i]\n",
    "    try:\n",
    "        turn_frequency[game_s['last_round']]+=1   \n",
    "    except Exception as e:\n",
    "        print(e)\n",
    "        break"
   ]
  },
  {
   "cell_type": "code",
   "execution_count": 27,
   "metadata": {},
   "outputs": [
    {
     "data": {
      "text/plain": [
       "{'pre_flop': 880, 'flop': 675, 'turn': 655, 'river': 840, 'showdown': 6950}"
      ]
     },
     "execution_count": 27,
     "metadata": {},
     "output_type": "execute_result"
    }
   ],
   "source": [
    "turn_frequency"
   ]
  },
  {
   "cell_type": "code",
   "execution_count": 28,
   "metadata": {},
   "outputs": [],
   "source": [
    "x= ['pre_flop','flop','turn','river','showdown']\n",
    "y = [x[1] for x in turn_frequency.items()]"
   ]
  },
  {
   "cell_type": "code",
   "execution_count": 29,
   "metadata": {},
   "outputs": [
    {
     "data": {
      "text/plain": [
       "<BarContainer object of 5 artists>"
      ]
     },
     "execution_count": 29,
     "metadata": {},
     "output_type": "execute_result"
    },
    {
     "data": {
      "image/png": "[encoded data removed]",
      "text/plain": [
       "<Figure size 432x288 with 1 Axes>"
      ]
     },
     "metadata": {
      "needs_background": "light"
     },
     "output_type": "display_data"
    }
   ],
   "source": [
    "plt.title('Number of games Ending at each round')\n",
    "plt.xlabel('Round Name')\n",
    "plt.ylabel('Number of games ending at round')\n",
    "plt.bar(x,y)"
   ]
  },
  {
   "cell_type": "markdown",
   "metadata": {},
   "source": [
    "###### Calculate remaining coins at the end of each game for each winning emotion"
   ]
  },
  {
   "cell_type": "code",
   "execution_count": 30,
   "metadata": {},
   "outputs": [],
   "source": [
    "debt_amount = {'fear':0,'happy':0,'no-emotion':0,'anger':0,'contempt':0,'normal':0}"
   ]
  },
  {
   "cell_type": "code",
   "execution_count": 31,
   "metadata": {},
   "outputs": [],
   "source": [
    "for i in range(len(games)):\n",
    "    game_s = games[i]\n",
    "    try:\n",
    "        debt_amount[game_s['win_emotion']]+=game_s['debt']\n",
    "    except Exception as e:\n",
    "        print(e)\n",
    "        break\n",
    "        "
   ]
  },
  {
   "cell_type": "code",
   "execution_count": 32,
   "metadata": {},
   "outputs": [],
   "source": [
    "for i in debt_amount:\n",
    "    debt_amount[i] /= emotion_frequency[i]"
   ]
  },
  {
   "cell_type": "code",
   "execution_count": 33,
   "metadata": {},
   "outputs": [],
   "source": [
    "x=['fear','happy','no-emotion','angry','contempt','normal']\n",
    "y = [x[1] for x in debt_amount.items()]"
   ]
  },
  {
   "cell_type": "code",
   "execution_count": 34,
   "metadata": {
    "scrolled": true
   },
   "outputs": [
    {
     "data": {
      "text/plain": [
       "<matplotlib.collections.PathCollection at 0x2a25acf04e0>"
      ]
     },
     "execution_count": 34,
     "metadata": {},
     "output_type": "execute_result"
    },
    {
     "data": {
      "image/png": "[encoded data removed]",
      "text/plain": [
       "<Figure size 432x288 with 1 Axes>"
      ]
     },
     "metadata": {
      "needs_background": "light"
     },
     "output_type": "display_data"
    }
   ],
   "source": [
    "plt.title('Remaining Coins after each game for each emotion')\n",
    "plt.xlabel('Emotion')\n",
    "plt.ylabel('Average coins remaining after each game')\n",
    "plt.scatter(x,y)"
   ]
  },
  {
   "cell_type": "markdown",
   "metadata": {},
   "source": [
    "###### These results are discussed in the results section of the report"
   ]
  },
  {
   "cell_type": "code",
   "execution_count": null,
   "metadata": {},
   "outputs": [],
   "source": []
  }
 ],
 "metadata": {
  "kernelspec": {
   "display_name": "Python 3",
   "language": "python",
   "name": "python3"
  },
  "language_info": {
   "codemirror_mode": {
    "name": "ipython",
    "version": 3
   },
   "file_extension": ".py",
   "mimetype": "text/x-python",
   "name": "python",
   "nbconvert_exporter": "python",
   "pygments_lexer": "ipython3",
   "version": "3.7.3"
  }
 },
 "nbformat": 4,
 "nbformat_minor": 2
}
